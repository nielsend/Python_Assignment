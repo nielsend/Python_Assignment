{
 "cells": [
  {
   "cell_type": "markdown",
   "metadata": {},
   "source": [
    "# Import Needed Libraries & Jupyter Settings"
   ]
  },
  {
   "cell_type": "code",
   "execution_count": 58,
   "metadata": {
    "collapsed": false
   },
   "outputs": [],
   "source": [
    "#Install biopython and import the biopythonn, panda, & ggplot libraries\n",
    "from Bio import SeqIO\n",
    "from Bio import Seq\n",
    "from Bio.Data import CodonTable\n",
    "import pandas as pd\n",
    "from ggplot import *\n",
    "\n",
    "#Show plots inside of jupyter notebook\n",
    "%matplotlib inline"
   ]
  },
  {
   "cell_type": "markdown",
   "metadata": {},
   "source": [
    "<br>\n",
    "<br>\n",
    "# Define Functions to be Used:"
   ]
  },
  {
   "cell_type": "code",
   "execution_count": 59,
   "metadata": {
    "collapsed": true
   },
   "outputs": [],
   "source": [
    "#Accepts a file in quotations that is a FASTA file\n",
    "def get_sequences_from_file(fasta_fn):\n",
    "    sequence_data_dict = {}\n",
    "    for record in SeqIO.parse(fasta_fn, \"fasta\"):\n",
    "        description = record.description.split()\n",
    "        species_name = description[1] + \" \" + description[2]\n",
    "        sequence_data_dict[species_name] = record.seq\n",
    "    return(sequence_data_dict)\n",
    "\n",
    "### Code returns a dictionary with the key being the species \n",
    "### and the entry being the sequence along with the type called SingleLetterAlphabet\n",
    "### Iterating [0) to [-1] (the end) gives you the sequence"
   ]
  },
  {
   "cell_type": "code",
   "execution_count": 60,
   "metadata": {
    "collapsed": false
   },
   "outputs": [],
   "source": [
    "#input a string of nucleotides to receive an amino acid translation.\n",
    "#only vertebrate mitochondrial translations will be returned\n",
    "def translate_sequences(string_nucleotides):\n",
    "    mito_table = CodonTable.unambiguous_dna_by_name[\"Vertebrate Mitochondrial\"]\n",
    "    #provides a table with each codon and the abbreviation for each amino acid\n",
    "    aa_seq_string=\"\"\n",
    "\n",
    "    #use a loop to get every three nucleotides\n",
    "    for i in range(0,int(len(string_nucleotides)/3)):\n",
    "        #three nucleotides for each codon in the sequence\n",
    "        codon=string_nucleotides[3*i:3*i+3]\n",
    "        \n",
    "        #check for stop codon and return the sequence BEFORE the codon\n",
    "        if codon in [\"TAA\",\"TAG\",\"AGA\",\"AGG\"]:\n",
    "            return aa_seq_string\n",
    "        #Translate the nucleotides into amino acids and add them to an amino acid string\n",
    "        aa_seq_string=aa_seq_string+mito_table.forward_table[codon]\n",
    "    #End the loop and return the amino acid string\n",
    "    return(aa_seq_string)  \n",
    "\n",
    "        "
   ]
  },
  {
   "cell_type": "code",
   "execution_count": 61,
   "metadata": {
    "collapsed": false
   },
   "outputs": [],
   "source": [
    "#Use translate() function in Seq in BioPython to translate. Argument is a string\n",
    "#to_stop=True ensures no stop codons\n",
    "def biopython_translate(string_nucleotides):\n",
    "    aa_string=Seq.translate(string_nucleotides, table=2, to_stop=True)\n",
    "    return aa_string\n",
    "    \n",
    "# Documentation: http://biopython.org/DIST/docs/api/Bio.Seq-pysrc.html#translate"
   ]
  },
  {
   "cell_type": "code",
   "execution_count": 62,
   "metadata": {
    "collapsed": false
   },
   "outputs": [],
   "source": [
    "#A function to count the number of charged amino acids\n",
    "# argument is a string of amino acids\n",
    "def count_Charged_AA(string_AminoAcids):\n",
    "    #set a counter equal to zero\n",
    "    count=0\n",
    "    #use a loop to iterate over the amino acid string\n",
    "    for i in range(0, int(len(string_AminoAcids))):\n",
    "        #if the amino acid is charged add to the counter\n",
    "        if string_AminoAcids[i] in ['R','K','D','E']:\n",
    "            count= count+1\n",
    "        #Returns an integer with the number of amino acids\n",
    "    return count"
   ]
  },
  {
   "cell_type": "code",
   "execution_count": 63,
   "metadata": {
    "collapsed": true
   },
   "outputs": [],
   "source": [
    "#A function to count the number of polar amino acids\n",
    "# argument is a string of amino acids\n",
    "def count_Polar_AA(string_AminoAcids):\n",
    "    #set a counter equal to zero\n",
    "    count=0\n",
    "    #use a loop to iterate over the amino acid string\n",
    "    for i in range(0, int(len(string_AminoAcids))):\n",
    "        #if the amino acid is charged add to the counter\n",
    "        if string_AminoAcids[i] in ['Q','N','H','S','T','Y','C','M','W']:\n",
    "            count= count+1\n",
    "        #Returns an integer with the number of amino acids\n",
    "    return count"
   ]
  },
  {
   "cell_type": "code",
   "execution_count": 64,
   "metadata": {
    "collapsed": true
   },
   "outputs": [],
   "source": [
    "#A function to count the number of hydrophobic amino acids\n",
    "# argument is a string of amino acids\n",
    "def count_Hydro_AA(string_AminoAcids):\n",
    "    #set a counter equal to zero\n",
    "    count=0\n",
    "    #use a loop to iterate over the amino acid string\n",
    "    for i in range(0, int(len(string_AminoAcids))):\n",
    "        #if the amino acid is charged add to the counter\n",
    "        if string_AminoAcids[i] in ['A','I','L','F','V','P','G']:\n",
    "            count= count+1\n",
    "    #Returns an integer with the number of amino acids\n",
    "    return count"
   ]
  },
  {
   "cell_type": "code",
   "execution_count": 65,
   "metadata": {
    "collapsed": false
   },
   "outputs": [],
   "source": [
    "#A function to return the proportion of each type of amino acid\n",
    "def get_proportion_aa_type_function(string_aa_seq):\n",
    "    #Returns the length of the amino acid string as a number\n",
    "    seq_length=float(len(string_aa_seq))\n",
    "    \n",
    "    #Use hydro, polar, and float functions to return a float value for each\n",
    "    hydro=float(count_Hydro_AA(string_aa_seq))\n",
    "    polar=float(count_Polar_AA(string_aa_seq))\n",
    "    charged=float(count_Charged_AA(string_aa_seq))\n",
    "    \n",
    "    #get proportion of each type as a decimal--type not explicitly stated in assignment\n",
    "    hydro_prop=hydro/seq_length\n",
    "    polar_prop=polar/seq_length\n",
    "    charged_prop=charged/seq_length\n",
    "    \n",
    "    #Returns a list in the following order: proportion charged, proportion polar, proportion hydro\n",
    "    return [charged_prop, polar_prop, hydro_prop]"
   ]
  },
  {
   "cell_type": "markdown",
   "metadata": {},
   "source": [
    "<br>\n",
    "<br>\n",
    "# MAIN"
   ]
  },
  {
   "cell_type": "code",
   "execution_count": 66,
   "metadata": {
    "collapsed": false
   },
   "outputs": [],
   "source": [
    "#Get sequences from the bears_cytb FASTA file and add to a dictionary\n",
    "cytb = get_sequences_from_file(\"bears_cytb.fasta\") \n",
    "\n",
    "#A dataframe that includes only data for body mass and empty cells for other columns\n",
    "bear_df = pd.read_csv(\"bears_data.csv\")\n",
    "\n",
    "#Read the file to a list called species_list\n",
    "species_list = list(bear_df.species)"
   ]
  },
  {
   "cell_type": "code",
   "execution_count": 67,
   "metadata": {
    "collapsed": false
   },
   "outputs": [
    {
     "name": "stdout",
     "output_type": "stream",
     "text": [
      "                  species     mass   charged     polar  hydrophobic\n",
      "0          Ursus spelaeus  550.800  0.092348  0.329815     0.577836\n",
      "1            Ursus arctos  203.500  0.092348  0.324538     0.583113\n",
      "2        Ursus thibetanus   99.714  0.092348  0.327177     0.580475\n",
      "3        Melursus ursinus  100.030  0.089710  0.340369     0.569921\n",
      "4        Ursus americanus  110.560  0.089710  0.337731     0.572559\n",
      "5     Helarctos malayanus   47.020  0.092348  0.340369     0.567282\n",
      "6  Ailuropoda melanoleuca  118.200  0.089710  0.343008     0.567282\n",
      "7      Tremarctos ornatus  140.700  0.089710  0.335092     0.575198\n",
      "8         Ursus maritimus  425.100  0.092348  0.327177     0.580475\n"
     ]
    }
   ],
   "source": [
    "#A for-loop to translate nucleotide sequence and get the proportion of each aa type \n",
    "#in the translated sequence and add to df\n",
    "\n",
    "count=0\n",
    "\n",
    "#Gets you the names of the species in the bear df\n",
    "for i in bear_df.species:\n",
    "    #Looks up the sequence associated with the name of a species in the dictionary\n",
    "    bear_seq=cytb[i]\n",
    "    #Translate the nucleotide sequence to amino acids\n",
    "    aa_seq=translate_sequences(str(bear_seq))\n",
    "    #Get the ratio of amino acids using the proportion function defined above\n",
    "    ratio_aa=get_proportion_aa_type_function(aa_seq)\n",
    "    \n",
    "    #Write the charged amino acid proportion to the bear df\n",
    "    bear_df.set_value(count,\"charged\",(ratio_aa[0]))\n",
    "    #Write the polar amino acid proportion to the bear df\n",
    "    bear_df.set_value(count,\"polar\",(ratio_aa[1]))\n",
    "    #Write the hyrdrophobic amino acid proportion to the bear df\n",
    "    bear_df.set_value(count,\"hydrophobic\",(ratio_aa[2]))\n",
    "    count=count+1\n",
    "    \n",
    "#Print bear df and admire the table    \n",
    "print(bear_df)"
   ]
  },
  {
   "cell_type": "markdown",
   "metadata": {},
   "source": [
    "<br>\n",
    "<br>\n",
    "# Charts and Results"
   ]
  },
  {
   "cell_type": "markdown",
   "metadata": {
    "collapsed": true
   },
   "source": [
    "### Chart 1: Species Mass\n",
    "<br>\n",
    "The largest bear species is *U. spelaeus*. This is interesting since the bear is thought to have gone extinct 24,000 years ago and competition from humans for caves may have contributed to their extinction. (Stiller et al., Mol Biol Evol (2010) 27 (5): 975-978). "
   ]
  },
  {
   "cell_type": "code",
   "execution_count": 68,
   "metadata": {
    "collapsed": false,
    "scrolled": false
   },
   "outputs": [
    {
     "data": {
      "image/png": "[encoded data removed]",
      "text/plain": [
       "<matplotlib.figure.Figure at 0x7f786d5630b8>"
      ]
     },
     "metadata": {},
     "output_type": "display_data"
    },
    {
     "data": {
      "text/plain": [
       "<ggplot: (8759706600922)>"
      ]
     },
     "execution_count": 68,
     "metadata": {},
     "output_type": "execute_result"
    }
   ],
   "source": [
    "#Bar chart with mass with x-axes labelled with species name\n",
    "\n",
    "#An empty list and for loop are used, so they X-axis can be more easily read.\n",
    "species_list=[]\n",
    "for i in bear_df.species:\n",
    "    #Split scientific name into genus and species parts\n",
    "    name=i.split()\n",
    "    #get first letter of genus name\n",
    "    genus=name[0][0]+\". \"\n",
    "    #get just the species name\n",
    "    species=name[1]\n",
    "    #append a latin name to the species list with the first letter of the genus and the species name\n",
    "    species_list.append(genus+species)\n",
    "\n",
    "\n",
    "df=pd.DataFrame({\"x\":species_list, \"y\":bear_df.mass})\n",
    "ggplot(aes(x=\"x\", weight=\"y\"), df) + geom_bar() \n",
    "\n",
    "#http://stackoverflow.com/questions/22599521/how-do-i-create-a-bar-chart-in-python-ggplot"
   ]
  },
  {
   "cell_type": "markdown",
   "metadata": {},
   "source": [
    "### Chart 2: Visualization of Amino Acid Proportion Charges\n",
    "\n",
    "This chart illustrates that cytochrome-b is highly conserved in the different species of bears."
   ]
  },
  {
   "cell_type": "code",
   "execution_count": 69,
   "metadata": {
    "collapsed": false,
    "scrolled": true
   },
   "outputs": [
    {
     "name": "stderr",
     "output_type": "stream",
     "text": [
      "/home/daniel/anaconda3/lib/python3.6/site-packages/ggplot/ggplot.py:602: FutureWarning: sort(columns=....) is deprecated, use sort_values(by=.....)\n",
      "  fill_levels = self.data[[fillcol_raw, fillcol]].sort(fillcol_raw)[fillcol].unique()\n"
     ]
    },
    {
     "data": {
      "image/png": "[encoded data removed]",
      "text/plain": [
       "<matplotlib.figure.Figure at 0x7f786d3c6128>"
      ]
     },
     "metadata": {},
     "output_type": "display_data"
    },
    {
     "data": {
      "text/plain": [
       "<ggplot: (-9223363277154248672)>"
      ]
     },
     "execution_count": 69,
     "metadata": {},
     "output_type": "execute_result"
    }
   ],
   "source": [
    "#Visualization of proportion of amino acid charges for the bears\n",
    "\n",
    "#Create a new dataframe from bear_df with only AA proportion information and species\n",
    "no_mass_df=pd.DataFrame({'x':species_list, \"Charged AA\":bear_df.charged, \"Hydrophobic AA\":bear_df.hydrophobic, \"Polar AA\":bear_df.polar})\n",
    "\n",
    "#Melt the data, so you can create a chart using ggplot.\n",
    "melting_bears=pd.melt(no_mass_df, id_vars='x')\n",
    "# Documentation: http://pandas.pydata.org/pandas-docs/stable/generated/pandas.melt.html\n",
    "\n",
    "#Create a stacked bar chart using ggplot\n",
    "ggplot(aes(x='x', weight=\"value\", fill='variable'), data=melting_bears) + geom_bar(position='stack')\n",
    "#Documentation: http://ggplot.yhathq.com/docs/geom_bar.html\n",
    "\n",
    "#Notice, a future warning results. Nevetheless, this is an issue with the ggplot library.\n",
    "#Hopefully, the library will be updated moving forward or using ggplot color or fill options will not work."
   ]
  },
  {
   "cell_type": "markdown",
   "metadata": {},
   "source": [
    "<br>\n",
    "<br>\n",
    "# Writing Files to Disk"
   ]
  },
  {
   "cell_type": "code",
   "execution_count": 70,
   "metadata": {
    "collapsed": false
   },
   "outputs": [],
   "source": [
    "#Write the bear_df to disk:\n",
    "bear_df.to_csv('../results/bear_df.csv')\n",
    "\n",
    "#Source: http://stackoverflow.com/questions/16923281/pandas-writing-dataframe-to-csv-file"
   ]
  },
  {
   "cell_type": "markdown",
   "metadata": {},
   "source": [
    "<br>\n",
    "<br>\n",
    "# Fun with Python"
   ]
  },
  {
   "cell_type": "code",
   "execution_count": null,
   "metadata": {
    "collapsed": true
   },
   "outputs": [],
   "source": [
    "This dataset could also be used to determine SNPs, and this information could be used to show differences in amino acids"
   ]
  },
  {
   "cell_type": "code",
   "execution_count": null,
   "metadata": {
    "collapsed": true
   },
   "outputs": [],
   "source": []
  }
 ],
 "metadata": {
  "kernelspec": {
   "display_name": "Python 3",
   "language": "python",
   "name": "python3"
  },
  "language_info": {
   "codemirror_mode": {
    "name": "ipython",
    "version": 3
   },
   "file_extension": ".py",
   "mimetype": "text/x-python",
   "name": "python",
   "nbconvert_exporter": "python",
   "pygments_lexer": "ipython3",
   "version": "3.6.0"
  }
 },
 "nbformat": 4,
 "nbformat_minor": 2
}
